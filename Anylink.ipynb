{
 "cells": [
  {
   "cell_type": "code",
   "execution_count": 2,
   "metadata": {},
   "outputs": [],
   "source": [
    "import pandas as pd \n",
    "from bs4 import BeautifulSoup as bs\n",
    "import urllib\n",
    "import requests\n",
    "from selenium import webdriver\n",
    "from selenium.webdriver.support.wait import WebDriverWait\n",
    "from selenium.webdriver.chrome.options import Options\n",
    "from selenium.common import exceptions\n",
    "import csv\n",
    "import time\n",
    "import os\n",
    "\n"
   ]
  },
  {
   "cell_type": "code",
   "execution_count": 3,
   "metadata": {},
   "outputs": [
    {
     "name": "stderr",
     "output_type": "stream",
     "text": [
      "d:\\workbench\\webscraping\\env\\lib\\site-packages\\ipykernel_launcher.py:6: DeprecationWarning: use options instead of chrome_options\n",
      "  \n"
     ]
    }
   ],
   "source": [
    "url=\"https://www.google.co.in/maps/search/medical+stores/@12.9266129,77.5560868,13z/data=!3m1!4b1!4m2!2m1!6e2\"\n",
    "options = Options()\n",
    "options.add_argument(\"--headless\") # Runs Chrome in headless mode.\n",
    "options.add_argument(\"--lang=en\")\n",
    "options.add_argument('--no-sandbox') # Bypass OS security model\n",
    "driver = webdriver.Chrome(chrome_options=options)"
   ]
  },
  {
   "cell_type": "code",
   "execution_count": 4,
   "metadata": {},
   "outputs": [],
   "source": [
    "driver.get(url)"
   ]
  },
  {
   "cell_type": "code",
   "execution_count": 5,
   "metadata": {},
   "outputs": [],
   "source": [
    "def collect_data(sent_data,file_name):\n",
    "    with open(file_name, 'w', newline='') as csvfile:\n",
    "        fieldnames = ['names', 'ratings','no_reviews','phone_numbers','addresses','details','descriptions','open_closin_time']\n",
    "        writer = csv.DictWriter(csvfile, fieldnames=fieldnames)\n",
    "        writer.writeheader()\n",
    "        for each in sent_data:\n",
    "            try:\n",
    "                name=each.find('h3',attrs={'class':'section-result-title'}).text.encode(encoding=\"utf-8\",errors='ignore').decode('utf-8')\n",
    "                rating=each.find('span',attrs={'class':'cards-rating-score'}).text.encode(encoding=\"utf-8\",errors='ignore').decode('utf-8')\n",
    "                no_review=each.find('span',attrs={'class':'section-result-num-ratings'}).text.encode(encoding=\"utf-8\",errors='ignore').decode('utf-8')\n",
    "                phone_number=each.find('span',attrs={'class':'section-result-info section-result-phone-number'}).text.encode(encoding=\"utf-8\",errors='ignore').decode('utf-8')\n",
    "                address=each.find('span',attrs={'class':'section-result-location'}).text.encode(encoding=\"utf-8\",errors='ignore').decode('utf-8')\n",
    "                details=each.find('div',attrs={'class':'section-result-details-container'}).text.encode(encoding=\"utf-8\",errors='ignore').decode('utf-8')\n",
    "                descriptions=each.find('div',attrs={'class':'section-result-descriptions'}).text.encode(encoding=\"utf-8\",errors='ignore').decode('utf-8')\n",
    "                open_closin_time=each.find('div',attrs={'class':'section-result-hours-phone-container'}).text.encode(encoding=\"utf-8\",errors='ignore').decode('utf-8')\n",
    "            except:\n",
    "                pass\n",
    "            try:\n",
    "                writer.writerow({'names': name, 'ratings': rating,'no_reviews':no_review,'phone_numbers':phone_number,'addresses':address,'details':details,'descriptions':descriptions,'open_closin_time':open_closin_time})\n",
    "            except:\n",
    "                pass"
   ]
  },
  {
   "cell_type": "code",
   "execution_count": 6,
   "metadata": {},
   "outputs": [
    {
     "name": "stdout",
     "output_type": "stream",
     "text": [
      "clicking next page\n",
      "clicked\n",
      "clicking next page\n",
      "clicked\n",
      "clicking next page\n",
      "clicked\n",
      "clicking next page\n",
      "clicked\n",
      "clicking next page\n",
      "clicked\n"
     ]
    }
   ],
   "source": [
    "files=[]\n",
    "for i in range(0,5):\n",
    "    response=bs(driver.page_source,'html.parser')\n",
    "    data=response.find_all('div' ,attrs={'class':'section-result-content'})\n",
    "    file_name='D:/workbench/Webscraping/collection'+str([i])+'.csv'\n",
    "    files.append('D:/workbench/Webscraping/collection'+str([i])+'.csv')\n",
    "    collect_data(data,file_name)\n",
    "    time.sleep(10)\n",
    "    print(\"clicking next page\")\n",
    "    driver.find_element_by_xpath('//*[@id=\"n7lv7yjyC35__section-pagination-button-next\"]').click()\n",
    "    print(\"clicked\")\n",
    "    time.sleep(6)\n",
    "combined_csv=pd.concat((pd.read_csv(file,encoding='latin1') for file in files),ignore_index=True)\n",
    "combined_csv.to_csv('D:/workbench/Webscraping/final_collection.csv',index=False, encoding='utf-8-sig')\n"
   ]
  },
  {
   "cell_type": "code",
   "execution_count": null,
   "metadata": {},
   "outputs": [],
   "source": []
  }
 ],
 "metadata": {
  "kernelspec": {
   "display_name": "Python 3",
   "language": "python",
   "name": "python3"
  },
  "language_info": {
   "codemirror_mode": {
    "name": "ipython",
    "version": 3
   },
   "file_extension": ".py",
   "mimetype": "text/x-python",
   "name": "python",
   "nbconvert_exporter": "python",
   "pygments_lexer": "ipython3",
   "version": "3.7.7"
  }
 },
 "nbformat": 4,
 "nbformat_minor": 4
}
